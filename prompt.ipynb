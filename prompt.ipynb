{
 "cells": [
  {
   "cell_type": "markdown",
   "id": "15eb10b1",
   "metadata": {},
   "source": [
    "# What leads to divorce?\n",
    "\n",
    "### Table of Contents\n",
    "\n",
    "* **[Overview](#Overview)**\n",
    "\n",
    "* **[Data Exploration](#Data-Exploration)**  \n",
    "    * [Check for Data Quality](#Check-for-Data-Quality)\n",
    "        * [Missing Values Check](#Missing-Values-Check)\n",
    "        * [Zero Values Check](#Zero-Values-Check)\n",
    "        * [Unique Values Check](#Unique-Values-Check)\n",
    "        * [Duplicate Values Check](#Duplicate-Values-Check)\n",
    "* **[Data Visualization & Analysis](#Data-Visualization-&-Analysis)**\n",
    "    * [Find Outliers](#Finding-Outliers)\n",
    "    * [Find Correlations of Features](#Find-Correlations-of-Features)\n",
    "* **[Data Preparation](#Data-Preparation)**\n",
    "    * [Data Cleanup](#Data-Cleanup)\n",
    "        * [Handling Missing Values](#Handling-Missing-Values)\n",
    "        * [Handling Outliers](#Handling-Outliers)"
   ]
  },
  {
   "cell_type": "markdown",
   "id": "2a25f452",
   "metadata": {},
   "source": [
    "# Overview\n"
   ]
  },
  {
   "cell_type": "markdown",
   "id": "ccb6d05a",
   "metadata": {},
   "source": [
    "<p>This the dataset that was collected from <a href='kaggle.com'>Kaggle</a> from the the below url.</p>\n",
    "<p><a href='https://www.kaggle.com/datasets/andrewmvd/divorce-prediction'>Divorce Prediction Dataset</a></p>\n",
    "<p>The dataset contains actual data which has been masked for privacy on the given features and reference has the explanation for each feature. No personal information is revealed in the data.</p>\n",
    "<p>This analysis is going to predict the factors that are contributing to the divorce.</p>"
   ]
  },
  {
   "cell_type": "code",
   "execution_count": 1,
   "id": "e072a5bc",
   "metadata": {},
   "outputs": [],
   "source": [
    "import pandas as pd\n",
    "import seaborn as sns\n",
    "import matplotlib.pyplot as plt\n",
    "import math\n",
    "from scipy import stats\n",
    "from sklearn.decomposition import PCA\n",
    "from sklearn.preprocessing import StandardScaler\n",
    "import numpy as np\n",
    "from sklearn.ensemble import RandomForestClassifier\n",
    "from sklearn.preprocessing import LabelEncoder\n",
    "from sklearn.model_selection import train_test_split\n",
    "from sklearn.model_selection import GridSearchCV\n",
    "from sklearn.linear_model import LogisticRegression\n",
    "from sklearn.model_selection import train_test_split\n",
    "from sklearn.metrics import accuracy_score, precision_score, recall_score, f1_score,classification_report\n",
    "from sklearn.linear_model import LogisticRegression\n",
    "from sklearn.tree import DecisionTreeClassifier\n",
    "from sklearn.neighbors import KNeighborsClassifier\n",
    "from sklearn.svm import SVC\n",
    "from sklearn.exceptions import ConvergenceWarning\n",
    "import time\n"
   ]
  },
  {
   "cell_type": "markdown",
   "id": "50e3548a",
   "metadata": {},
   "source": [
    "# Data Exploration"
   ]
  },
  {
   "cell_type": "code",
   "execution_count": 2,
   "id": "0e957191",
   "metadata": {},
   "outputs": [],
   "source": [
    "# Set all columns visible\n",
    "pd.set_option('display.max_columns', None)\n",
    "pd.set_option('display.max_colwidth', None)"
   ]
  },
  {
   "cell_type": "code",
   "execution_count": 3,
   "id": "94a43ba8",
   "metadata": {},
   "outputs": [],
   "source": [
    "# Load reference data into dataframe\n",
    "datareference = pd.read_csv('data/divorce-dataset-1/reference.tsv', sep = '|')"
   ]
  },
  {
   "cell_type": "markdown",
   "id": "3ea05fee",
   "metadata": {},
   "source": [
    "This dataset contains data about 170 couples with their corresponding Divorce Predictors Scale variables (DPS) on the basis of Gottman couples therapy for 54 questions.\n",
    "The couples are from various regions of Turkey wherein the records were acquired from face-to-face interviews from couples who were already divorced or happily married.\n",
    "All responses were collected on a 5 point scale (0=Never, 1=Seldom, 2=Averagely, 3=Frequently, 4=Always).\n",
    "\n",
    "Source: <a href='https://www.kaggle.com/datasets/andrewmvd/divorce-prediction'>https://www.kaggle.com/datasets/andrewmvd/divorce-prediction</a>"
   ]
  },
  {
   "cell_type": "code",
   "execution_count": 4,
   "id": "5a632cb7",
   "metadata": {},
   "outputs": [
    {
     "data": {
      "text/html": [
       "<style type=\"text/css\">\n",
       "#T_d15eb th {\n",
       "  text-align: left;\n",
       "}\n",
       "#T_d15eb_row0_col0, #T_d15eb_row0_col1, #T_d15eb_row1_col0, #T_d15eb_row1_col1, #T_d15eb_row2_col0, #T_d15eb_row2_col1, #T_d15eb_row3_col0, #T_d15eb_row3_col1, #T_d15eb_row4_col0, #T_d15eb_row4_col1, #T_d15eb_row5_col0, #T_d15eb_row5_col1, #T_d15eb_row6_col0, #T_d15eb_row6_col1, #T_d15eb_row7_col0, #T_d15eb_row7_col1, #T_d15eb_row8_col0, #T_d15eb_row8_col1, #T_d15eb_row9_col0, #T_d15eb_row9_col1, #T_d15eb_row10_col0, #T_d15eb_row10_col1, #T_d15eb_row11_col0, #T_d15eb_row11_col1, #T_d15eb_row12_col0, #T_d15eb_row12_col1, #T_d15eb_row13_col0, #T_d15eb_row13_col1, #T_d15eb_row14_col0, #T_d15eb_row14_col1, #T_d15eb_row15_col0, #T_d15eb_row15_col1, #T_d15eb_row16_col0, #T_d15eb_row16_col1, #T_d15eb_row17_col0, #T_d15eb_row17_col1, #T_d15eb_row18_col0, #T_d15eb_row18_col1, #T_d15eb_row19_col0, #T_d15eb_row19_col1, #T_d15eb_row20_col0, #T_d15eb_row20_col1, #T_d15eb_row21_col0, #T_d15eb_row21_col1, #T_d15eb_row22_col0, #T_d15eb_row22_col1, #T_d15eb_row23_col0, #T_d15eb_row23_col1, #T_d15eb_row24_col0, #T_d15eb_row24_col1, #T_d15eb_row25_col0, #T_d15eb_row25_col1, #T_d15eb_row26_col0, #T_d15eb_row26_col1, #T_d15eb_row27_col0, #T_d15eb_row27_col1, #T_d15eb_row28_col0, #T_d15eb_row28_col1, #T_d15eb_row29_col0, #T_d15eb_row29_col1, #T_d15eb_row30_col0, #T_d15eb_row30_col1, #T_d15eb_row31_col0, #T_d15eb_row31_col1, #T_d15eb_row32_col0, #T_d15eb_row32_col1, #T_d15eb_row33_col0, #T_d15eb_row33_col1, #T_d15eb_row34_col0, #T_d15eb_row34_col1, #T_d15eb_row35_col0, #T_d15eb_row35_col1, #T_d15eb_row36_col0, #T_d15eb_row36_col1, #T_d15eb_row37_col0, #T_d15eb_row37_col1, #T_d15eb_row38_col0, #T_d15eb_row38_col1, #T_d15eb_row39_col0, #T_d15eb_row39_col1, #T_d15eb_row40_col0, #T_d15eb_row40_col1, #T_d15eb_row41_col0, #T_d15eb_row41_col1, #T_d15eb_row42_col0, #T_d15eb_row42_col1, #T_d15eb_row43_col0, #T_d15eb_row43_col1, #T_d15eb_row44_col0, #T_d15eb_row44_col1, #T_d15eb_row45_col0, #T_d15eb_row45_col1, #T_d15eb_row46_col0, #T_d15eb_row46_col1, #T_d15eb_row47_col0, #T_d15eb_row47_col1, #T_d15eb_row48_col0, #T_d15eb_row48_col1, #T_d15eb_row49_col0, #T_d15eb_row49_col1, #T_d15eb_row50_col0, #T_d15eb_row50_col1, #T_d15eb_row51_col0, #T_d15eb_row51_col1, #T_d15eb_row52_col0, #T_d15eb_row52_col1, #T_d15eb_row53_col0, #T_d15eb_row53_col1 {\n",
       "  text-align: left;\n",
       "}\n",
       "</style>\n",
       "<table id=\"T_d15eb\">\n",
       "  <thead>\n",
       "    <tr>\n",
       "      <th class=\"blank level0\" >&nbsp;</th>\n",
       "      <th id=\"T_d15eb_level0_col0\" class=\"col_heading level0 col0\" >atribute_id</th>\n",
       "      <th id=\"T_d15eb_level0_col1\" class=\"col_heading level0 col1\" >description</th>\n",
       "    </tr>\n",
       "  </thead>\n",
       "  <tbody>\n",
       "    <tr>\n",
       "      <th id=\"T_d15eb_level0_row0\" class=\"row_heading level0 row0\" >0</th>\n",
       "      <td id=\"T_d15eb_row0_col0\" class=\"data row0 col0\" >1</td>\n",
       "      <td id=\"T_d15eb_row0_col1\" class=\"data row0 col1\" >If one of us apologizes when our discussion deteriorates, the discussion ends.</td>\n",
       "    </tr>\n",
       "    <tr>\n",
       "      <th id=\"T_d15eb_level0_row1\" class=\"row_heading level0 row1\" >1</th>\n",
       "      <td id=\"T_d15eb_row1_col0\" class=\"data row1 col0\" >2</td>\n",
       "      <td id=\"T_d15eb_row1_col1\" class=\"data row1 col1\" >I know we can ignore our differences, even if things get hard sometimes.</td>\n",
       "    </tr>\n",
       "    <tr>\n",
       "      <th id=\"T_d15eb_level0_row2\" class=\"row_heading level0 row2\" >2</th>\n",
       "      <td id=\"T_d15eb_row2_col0\" class=\"data row2 col0\" >3</td>\n",
       "      <td id=\"T_d15eb_row2_col1\" class=\"data row2 col1\" >When we need it, we can take our discussions with my spouse from the beginning and correct it.</td>\n",
       "    </tr>\n",
       "    <tr>\n",
       "      <th id=\"T_d15eb_level0_row3\" class=\"row_heading level0 row3\" >3</th>\n",
       "      <td id=\"T_d15eb_row3_col0\" class=\"data row3 col0\" >4</td>\n",
       "      <td id=\"T_d15eb_row3_col1\" class=\"data row3 col1\" >When I discuss with my spouse, to contact him will eventually work.</td>\n",
       "    </tr>\n",
       "    <tr>\n",
       "      <th id=\"T_d15eb_level0_row4\" class=\"row_heading level0 row4\" >4</th>\n",
       "      <td id=\"T_d15eb_row4_col0\" class=\"data row4 col0\" >5</td>\n",
       "      <td id=\"T_d15eb_row4_col1\" class=\"data row4 col1\" >The time I spent with my wife is special for us.</td>\n",
       "    </tr>\n",
       "    <tr>\n",
       "      <th id=\"T_d15eb_level0_row5\" class=\"row_heading level0 row5\" >5</th>\n",
       "      <td id=\"T_d15eb_row5_col0\" class=\"data row5 col0\" >6</td>\n",
       "      <td id=\"T_d15eb_row5_col1\" class=\"data row5 col1\" >We don't have time at home as partners.</td>\n",
       "    </tr>\n",
       "    <tr>\n",
       "      <th id=\"T_d15eb_level0_row6\" class=\"row_heading level0 row6\" >6</th>\n",
       "      <td id=\"T_d15eb_row6_col0\" class=\"data row6 col0\" >7</td>\n",
       "      <td id=\"T_d15eb_row6_col1\" class=\"data row6 col1\" >We are like two strangers who share the same environment at home rather than family.</td>\n",
       "    </tr>\n",
       "    <tr>\n",
       "      <th id=\"T_d15eb_level0_row7\" class=\"row_heading level0 row7\" >7</th>\n",
       "      <td id=\"T_d15eb_row7_col0\" class=\"data row7 col0\" >8</td>\n",
       "      <td id=\"T_d15eb_row7_col1\" class=\"data row7 col1\" >I enjoy our holidays with my wife.</td>\n",
       "    </tr>\n",
       "    <tr>\n",
       "      <th id=\"T_d15eb_level0_row8\" class=\"row_heading level0 row8\" >8</th>\n",
       "      <td id=\"T_d15eb_row8_col0\" class=\"data row8 col0\" >9</td>\n",
       "      <td id=\"T_d15eb_row8_col1\" class=\"data row8 col1\" >I enjoy traveling with my wife.</td>\n",
       "    </tr>\n",
       "    <tr>\n",
       "      <th id=\"T_d15eb_level0_row9\" class=\"row_heading level0 row9\" >9</th>\n",
       "      <td id=\"T_d15eb_row9_col0\" class=\"data row9 col0\" >10</td>\n",
       "      <td id=\"T_d15eb_row9_col1\" class=\"data row9 col1\" >Most of our goals are common to my spouse.</td>\n",
       "    </tr>\n",
       "    <tr>\n",
       "      <th id=\"T_d15eb_level0_row10\" class=\"row_heading level0 row10\" >10</th>\n",
       "      <td id=\"T_d15eb_row10_col0\" class=\"data row10 col0\" >11</td>\n",
       "      <td id=\"T_d15eb_row10_col1\" class=\"data row10 col1\" >I think that one day in the future, when I look back, I see that my spouse and I have been in harmony with each other.</td>\n",
       "    </tr>\n",
       "    <tr>\n",
       "      <th id=\"T_d15eb_level0_row11\" class=\"row_heading level0 row11\" >11</th>\n",
       "      <td id=\"T_d15eb_row11_col0\" class=\"data row11 col0\" >12</td>\n",
       "      <td id=\"T_d15eb_row11_col1\" class=\"data row11 col1\" >My spouse and I have similar values in terms of personal freedom.</td>\n",
       "    </tr>\n",
       "    <tr>\n",
       "      <th id=\"T_d15eb_level0_row12\" class=\"row_heading level0 row12\" >12</th>\n",
       "      <td id=\"T_d15eb_row12_col0\" class=\"data row12 col0\" >13</td>\n",
       "      <td id=\"T_d15eb_row12_col1\" class=\"data row12 col1\" >My spouse and I have similar sense of entertainment.</td>\n",
       "    </tr>\n",
       "    <tr>\n",
       "      <th id=\"T_d15eb_level0_row13\" class=\"row_heading level0 row13\" >13</th>\n",
       "      <td id=\"T_d15eb_row13_col0\" class=\"data row13 col0\" >14</td>\n",
       "      <td id=\"T_d15eb_row13_col1\" class=\"data row13 col1\" >Most of our goals for people (children, friends, etc.) are the same.</td>\n",
       "    </tr>\n",
       "    <tr>\n",
       "      <th id=\"T_d15eb_level0_row14\" class=\"row_heading level0 row14\" >14</th>\n",
       "      <td id=\"T_d15eb_row14_col0\" class=\"data row14 col0\" >15</td>\n",
       "      <td id=\"T_d15eb_row14_col1\" class=\"data row14 col1\" >Our dreams with my spouse are similar and harmonious.</td>\n",
       "    </tr>\n",
       "    <tr>\n",
       "      <th id=\"T_d15eb_level0_row15\" class=\"row_heading level0 row15\" >15</th>\n",
       "      <td id=\"T_d15eb_row15_col0\" class=\"data row15 col0\" >16</td>\n",
       "      <td id=\"T_d15eb_row15_col1\" class=\"data row15 col1\" >We're compatible with my spouse about what love should be.</td>\n",
       "    </tr>\n",
       "    <tr>\n",
       "      <th id=\"T_d15eb_level0_row16\" class=\"row_heading level0 row16\" >16</th>\n",
       "      <td id=\"T_d15eb_row16_col0\" class=\"data row16 col0\" >17</td>\n",
       "      <td id=\"T_d15eb_row16_col1\" class=\"data row16 col1\" >We share the same views about being happy in our life with my spouse</td>\n",
       "    </tr>\n",
       "    <tr>\n",
       "      <th id=\"T_d15eb_level0_row17\" class=\"row_heading level0 row17\" >17</th>\n",
       "      <td id=\"T_d15eb_row17_col0\" class=\"data row17 col0\" >18</td>\n",
       "      <td id=\"T_d15eb_row17_col1\" class=\"data row17 col1\" >My spouse and I have similar ideas about how marriage should be</td>\n",
       "    </tr>\n",
       "    <tr>\n",
       "      <th id=\"T_d15eb_level0_row18\" class=\"row_heading level0 row18\" >18</th>\n",
       "      <td id=\"T_d15eb_row18_col0\" class=\"data row18 col0\" >19</td>\n",
       "      <td id=\"T_d15eb_row18_col1\" class=\"data row18 col1\" >My spouse and I have similar ideas about how roles should be in marriage</td>\n",
       "    </tr>\n",
       "    <tr>\n",
       "      <th id=\"T_d15eb_level0_row19\" class=\"row_heading level0 row19\" >19</th>\n",
       "      <td id=\"T_d15eb_row19_col0\" class=\"data row19 col0\" >20</td>\n",
       "      <td id=\"T_d15eb_row19_col1\" class=\"data row19 col1\" >My spouse and I have similar values in trust.</td>\n",
       "    </tr>\n",
       "    <tr>\n",
       "      <th id=\"T_d15eb_level0_row20\" class=\"row_heading level0 row20\" >20</th>\n",
       "      <td id=\"T_d15eb_row20_col0\" class=\"data row20 col0\" >21</td>\n",
       "      <td id=\"T_d15eb_row20_col1\" class=\"data row20 col1\" >I know exactly what my wife likes.</td>\n",
       "    </tr>\n",
       "    <tr>\n",
       "      <th id=\"T_d15eb_level0_row21\" class=\"row_heading level0 row21\" >21</th>\n",
       "      <td id=\"T_d15eb_row21_col0\" class=\"data row21 col0\" >22</td>\n",
       "      <td id=\"T_d15eb_row21_col1\" class=\"data row21 col1\" >I know how my spouse wants to be taken care of when she/he sick.</td>\n",
       "    </tr>\n",
       "    <tr>\n",
       "      <th id=\"T_d15eb_level0_row22\" class=\"row_heading level0 row22\" >22</th>\n",
       "      <td id=\"T_d15eb_row22_col0\" class=\"data row22 col0\" >23</td>\n",
       "      <td id=\"T_d15eb_row22_col1\" class=\"data row22 col1\" >I know my spouse's favorite food.</td>\n",
       "    </tr>\n",
       "    <tr>\n",
       "      <th id=\"T_d15eb_level0_row23\" class=\"row_heading level0 row23\" >23</th>\n",
       "      <td id=\"T_d15eb_row23_col0\" class=\"data row23 col0\" >24</td>\n",
       "      <td id=\"T_d15eb_row23_col1\" class=\"data row23 col1\" >I can tell you what kind of stress my spouse is facing in her/his life.</td>\n",
       "    </tr>\n",
       "    <tr>\n",
       "      <th id=\"T_d15eb_level0_row24\" class=\"row_heading level0 row24\" >24</th>\n",
       "      <td id=\"T_d15eb_row24_col0\" class=\"data row24 col0\" >25</td>\n",
       "      <td id=\"T_d15eb_row24_col1\" class=\"data row24 col1\" >I have knowledge of my spouse's inner world.</td>\n",
       "    </tr>\n",
       "    <tr>\n",
       "      <th id=\"T_d15eb_level0_row25\" class=\"row_heading level0 row25\" >25</th>\n",
       "      <td id=\"T_d15eb_row25_col0\" class=\"data row25 col0\" >26</td>\n",
       "      <td id=\"T_d15eb_row25_col1\" class=\"data row25 col1\" >I know my spouse's basic anxieties.</td>\n",
       "    </tr>\n",
       "    <tr>\n",
       "      <th id=\"T_d15eb_level0_row26\" class=\"row_heading level0 row26\" >26</th>\n",
       "      <td id=\"T_d15eb_row26_col0\" class=\"data row26 col0\" >27</td>\n",
       "      <td id=\"T_d15eb_row26_col1\" class=\"data row26 col1\" >I know what my spouse's current sources of stress are.</td>\n",
       "    </tr>\n",
       "    <tr>\n",
       "      <th id=\"T_d15eb_level0_row27\" class=\"row_heading level0 row27\" >27</th>\n",
       "      <td id=\"T_d15eb_row27_col0\" class=\"data row27 col0\" >28</td>\n",
       "      <td id=\"T_d15eb_row27_col1\" class=\"data row27 col1\" >I know my spouse's hopes and wishes.</td>\n",
       "    </tr>\n",
       "    <tr>\n",
       "      <th id=\"T_d15eb_level0_row28\" class=\"row_heading level0 row28\" >28</th>\n",
       "      <td id=\"T_d15eb_row28_col0\" class=\"data row28 col0\" >29</td>\n",
       "      <td id=\"T_d15eb_row28_col1\" class=\"data row28 col1\" >I know my spouse very well.</td>\n",
       "    </tr>\n",
       "    <tr>\n",
       "      <th id=\"T_d15eb_level0_row29\" class=\"row_heading level0 row29\" >29</th>\n",
       "      <td id=\"T_d15eb_row29_col0\" class=\"data row29 col0\" >30</td>\n",
       "      <td id=\"T_d15eb_row29_col1\" class=\"data row29 col1\" >I know my spouse's friends and their social relationships.</td>\n",
       "    </tr>\n",
       "    <tr>\n",
       "      <th id=\"T_d15eb_level0_row30\" class=\"row_heading level0 row30\" >30</th>\n",
       "      <td id=\"T_d15eb_row30_col0\" class=\"data row30 col0\" >31</td>\n",
       "      <td id=\"T_d15eb_row30_col1\" class=\"data row30 col1\" >I feel aggressive when I argue with my spouse.</td>\n",
       "    </tr>\n",
       "    <tr>\n",
       "      <th id=\"T_d15eb_level0_row31\" class=\"row_heading level0 row31\" >31</th>\n",
       "      <td id=\"T_d15eb_row31_col0\" class=\"data row31 col0\" >32</td>\n",
       "      <td id=\"T_d15eb_row31_col1\" class=\"data row31 col1\" >When discussing with my spouse, I usually use expressions such as ‘you always’ or ‘you never’ .</td>\n",
       "    </tr>\n",
       "    <tr>\n",
       "      <th id=\"T_d15eb_level0_row32\" class=\"row_heading level0 row32\" >32</th>\n",
       "      <td id=\"T_d15eb_row32_col0\" class=\"data row32 col0\" >33</td>\n",
       "      <td id=\"T_d15eb_row32_col1\" class=\"data row32 col1\" >I can use negative statements about my spouse's personality during our discussions.</td>\n",
       "    </tr>\n",
       "    <tr>\n",
       "      <th id=\"T_d15eb_level0_row33\" class=\"row_heading level0 row33\" >33</th>\n",
       "      <td id=\"T_d15eb_row33_col0\" class=\"data row33 col0\" >34</td>\n",
       "      <td id=\"T_d15eb_row33_col1\" class=\"data row33 col1\" >I can use offensive expressions during our discussions.</td>\n",
       "    </tr>\n",
       "    <tr>\n",
       "      <th id=\"T_d15eb_level0_row34\" class=\"row_heading level0 row34\" >34</th>\n",
       "      <td id=\"T_d15eb_row34_col0\" class=\"data row34 col0\" >35</td>\n",
       "      <td id=\"T_d15eb_row34_col1\" class=\"data row34 col1\" >I can insult my spouse during our discussions.</td>\n",
       "    </tr>\n",
       "    <tr>\n",
       "      <th id=\"T_d15eb_level0_row35\" class=\"row_heading level0 row35\" >35</th>\n",
       "      <td id=\"T_d15eb_row35_col0\" class=\"data row35 col0\" >36</td>\n",
       "      <td id=\"T_d15eb_row35_col1\" class=\"data row35 col1\" >I can be humiliating when we discussions.</td>\n",
       "    </tr>\n",
       "    <tr>\n",
       "      <th id=\"T_d15eb_level0_row36\" class=\"row_heading level0 row36\" >36</th>\n",
       "      <td id=\"T_d15eb_row36_col0\" class=\"data row36 col0\" >37</td>\n",
       "      <td id=\"T_d15eb_row36_col1\" class=\"data row36 col1\" >My discussion with my spouse is not calm.</td>\n",
       "    </tr>\n",
       "    <tr>\n",
       "      <th id=\"T_d15eb_level0_row37\" class=\"row_heading level0 row37\" >37</th>\n",
       "      <td id=\"T_d15eb_row37_col0\" class=\"data row37 col0\" >38</td>\n",
       "      <td id=\"T_d15eb_row37_col1\" class=\"data row37 col1\" >I hate my spouse's way of open a subject.</td>\n",
       "    </tr>\n",
       "    <tr>\n",
       "      <th id=\"T_d15eb_level0_row38\" class=\"row_heading level0 row38\" >38</th>\n",
       "      <td id=\"T_d15eb_row38_col0\" class=\"data row38 col0\" >39</td>\n",
       "      <td id=\"T_d15eb_row38_col1\" class=\"data row38 col1\" >Our discussions often occur suddenly.</td>\n",
       "    </tr>\n",
       "    <tr>\n",
       "      <th id=\"T_d15eb_level0_row39\" class=\"row_heading level0 row39\" >39</th>\n",
       "      <td id=\"T_d15eb_row39_col0\" class=\"data row39 col0\" >40</td>\n",
       "      <td id=\"T_d15eb_row39_col1\" class=\"data row39 col1\" >We're just starting a discussion before I know what's going on.</td>\n",
       "    </tr>\n",
       "    <tr>\n",
       "      <th id=\"T_d15eb_level0_row40\" class=\"row_heading level0 row40\" >40</th>\n",
       "      <td id=\"T_d15eb_row40_col0\" class=\"data row40 col0\" >41</td>\n",
       "      <td id=\"T_d15eb_row40_col1\" class=\"data row40 col1\" >When I talk to my spouse about something, my calm suddenly breaks.</td>\n",
       "    </tr>\n",
       "    <tr>\n",
       "      <th id=\"T_d15eb_level0_row41\" class=\"row_heading level0 row41\" >41</th>\n",
       "      <td id=\"T_d15eb_row41_col0\" class=\"data row41 col0\" >42</td>\n",
       "      <td id=\"T_d15eb_row41_col1\" class=\"data row41 col1\" >When I argue with my spouse, ı only go out and I don't say a word.</td>\n",
       "    </tr>\n",
       "    <tr>\n",
       "      <th id=\"T_d15eb_level0_row42\" class=\"row_heading level0 row42\" >42</th>\n",
       "      <td id=\"T_d15eb_row42_col0\" class=\"data row42 col0\" >43</td>\n",
       "      <td id=\"T_d15eb_row42_col1\" class=\"data row42 col1\" >I mostly stay silent to calm the environment a little bit.</td>\n",
       "    </tr>\n",
       "    <tr>\n",
       "      <th id=\"T_d15eb_level0_row43\" class=\"row_heading level0 row43\" >43</th>\n",
       "      <td id=\"T_d15eb_row43_col0\" class=\"data row43 col0\" >44</td>\n",
       "      <td id=\"T_d15eb_row43_col1\" class=\"data row43 col1\" >Sometimes I think it's good for me to leave home for a while.</td>\n",
       "    </tr>\n",
       "    <tr>\n",
       "      <th id=\"T_d15eb_level0_row44\" class=\"row_heading level0 row44\" >44</th>\n",
       "      <td id=\"T_d15eb_row44_col0\" class=\"data row44 col0\" >45</td>\n",
       "      <td id=\"T_d15eb_row44_col1\" class=\"data row44 col1\" >I'd rather stay silent than discuss with my spouse.</td>\n",
       "    </tr>\n",
       "    <tr>\n",
       "      <th id=\"T_d15eb_level0_row45\" class=\"row_heading level0 row45\" >45</th>\n",
       "      <td id=\"T_d15eb_row45_col0\" class=\"data row45 col0\" >46</td>\n",
       "      <td id=\"T_d15eb_row45_col1\" class=\"data row45 col1\" >Even if I'm right in the discussion, I stay silent to hurt my spouse.</td>\n",
       "    </tr>\n",
       "    <tr>\n",
       "      <th id=\"T_d15eb_level0_row46\" class=\"row_heading level0 row46\" >46</th>\n",
       "      <td id=\"T_d15eb_row46_col0\" class=\"data row46 col0\" >47</td>\n",
       "      <td id=\"T_d15eb_row46_col1\" class=\"data row46 col1\" >When I discuss with my spouse, I stay silent because I am afraid of not being able to control my anger.</td>\n",
       "    </tr>\n",
       "    <tr>\n",
       "      <th id=\"T_d15eb_level0_row47\" class=\"row_heading level0 row47\" >47</th>\n",
       "      <td id=\"T_d15eb_row47_col0\" class=\"data row47 col0\" >48</td>\n",
       "      <td id=\"T_d15eb_row47_col1\" class=\"data row47 col1\" >I feel right in our discussions.</td>\n",
       "    </tr>\n",
       "    <tr>\n",
       "      <th id=\"T_d15eb_level0_row48\" class=\"row_heading level0 row48\" >48</th>\n",
       "      <td id=\"T_d15eb_row48_col0\" class=\"data row48 col0\" >49</td>\n",
       "      <td id=\"T_d15eb_row48_col1\" class=\"data row48 col1\" >I have nothing to do with what I've been accused of.</td>\n",
       "    </tr>\n",
       "    <tr>\n",
       "      <th id=\"T_d15eb_level0_row49\" class=\"row_heading level0 row49\" >49</th>\n",
       "      <td id=\"T_d15eb_row49_col0\" class=\"data row49 col0\" >50</td>\n",
       "      <td id=\"T_d15eb_row49_col1\" class=\"data row49 col1\" >I'm not actually the one who's guilty about what I'm accused of.</td>\n",
       "    </tr>\n",
       "    <tr>\n",
       "      <th id=\"T_d15eb_level0_row50\" class=\"row_heading level0 row50\" >50</th>\n",
       "      <td id=\"T_d15eb_row50_col0\" class=\"data row50 col0\" >51</td>\n",
       "      <td id=\"T_d15eb_row50_col1\" class=\"data row50 col1\" >I'm not the one who's wrong about problems at home.</td>\n",
       "    </tr>\n",
       "    <tr>\n",
       "      <th id=\"T_d15eb_level0_row51\" class=\"row_heading level0 row51\" >51</th>\n",
       "      <td id=\"T_d15eb_row51_col0\" class=\"data row51 col0\" >52</td>\n",
       "      <td id=\"T_d15eb_row51_col1\" class=\"data row51 col1\" >I wouldn't hesitate to tell my spouse about her/his inadequacy.</td>\n",
       "    </tr>\n",
       "    <tr>\n",
       "      <th id=\"T_d15eb_level0_row52\" class=\"row_heading level0 row52\" >52</th>\n",
       "      <td id=\"T_d15eb_row52_col0\" class=\"data row52 col0\" >53</td>\n",
       "      <td id=\"T_d15eb_row52_col1\" class=\"data row52 col1\" >When I discuss, I remind my spouse of her/his inadequacy.</td>\n",
       "    </tr>\n",
       "    <tr>\n",
       "      <th id=\"T_d15eb_level0_row53\" class=\"row_heading level0 row53\" >53</th>\n",
       "      <td id=\"T_d15eb_row53_col0\" class=\"data row53 col0\" >54</td>\n",
       "      <td id=\"T_d15eb_row53_col1\" class=\"data row53 col1\" >I'm not afraid to tell my spouse about her/his incompetence.</td>\n",
       "    </tr>\n",
       "  </tbody>\n",
       "</table>\n"
      ],
      "text/plain": [
       "<pandas.io.formats.style.Styler at 0x106356a70>"
      ]
     },
     "execution_count": 4,
     "metadata": {},
     "output_type": "execute_result"
    }
   ],
   "source": [
    "# Read reference data & Aligned dataframe columns and headers\n",
    "left_aligned_refdata = datareference.style.set_properties(**{'text-align': 'left'}).set_table_styles([dict(selector='th', props=[('text-align', 'left')])])\n",
    "left_aligned_refdata"
   ]
  },
  {
   "cell_type": "code",
   "execution_count": 5,
   "id": "ca9b54e7",
   "metadata": {},
   "outputs": [],
   "source": [
    "# read feature data\n",
    "data = pd.read_csv('data/divorce-dataset-1/divorce_data.csv', sep = ';')"
   ]
  },
  {
   "cell_type": "code",
   "execution_count": null,
   "id": "83abee72",
   "metadata": {},
   "outputs": [],
   "source": [
    "data"
   ]
  },
  {
   "cell_type": "markdown",
   "id": "b7a2cd0f",
   "metadata": {},
   "source": [
    "# Check for Data Quality\n",
    "\n",
    "Checking for all data quality issues in the dataset.\n",
    "        "
   ]
  },
  {
   "cell_type": "markdown",
   "id": "0aefa339",
   "metadata": {},
   "source": [
    "## Missing Values Check\n",
    "\n",
    "Checking for missing values in the data set."
   ]
  },
  {
   "cell_type": "code",
   "execution_count": null,
   "id": "c507019c",
   "metadata": {},
   "outputs": [],
   "source": [
    "# Missing values check\n",
    "missing_values_count = data.isna().sum()\n",
    "print(missing_values_count)"
   ]
  },
  {
   "cell_type": "markdown",
   "id": "1a983635",
   "metadata": {},
   "source": [
    "## Zero Values Check\n",
    "\n",
    "Checking for zero values in the data set.\n"
   ]
  },
  {
   "cell_type": "code",
   "execution_count": null,
   "id": "3f64deac",
   "metadata": {},
   "outputs": [],
   "source": [
    "# Zero values check\n",
    "data.eq(0).sum()"
   ]
  },
  {
   "cell_type": "markdown",
   "id": "5e3a3b18",
   "metadata": {},
   "source": [
    "## Unique Values Check\n",
    "\n",
    "Checking for unique values in the data set.\n",
    "        "
   ]
  },
  {
   "cell_type": "code",
   "execution_count": null,
   "id": "b3da0cce",
   "metadata": {},
   "outputs": [],
   "source": [
    "# Unique values check\n",
    "def unique_values_and_null_percentage(dataframe):\n",
    "    \"\"\"\n",
    "    Check the count of unique values and the percentage of null values for each column in a DataFrame.\n",
    "\n",
    "    Parameters:\n",
    "    - dataframe: Pandas DataFrame.\n",
    "\n",
    "    Returns:\n",
    "    - A DataFrame with column names, the count of unique values, and the percentage of null values.\n",
    "    \"\"\"\n",
    "    unique_count = dataframe.nunique()\n",
    "    null_percentage = dataframe.isnull().mean() * 100\n",
    "\n",
    "    result_df = pd.DataFrame({\n",
    "        'Column': unique_count.index,\n",
    "        'Unique Count': unique_count.values,\n",
    "        'Null Percentage': null_percentage.values\n",
    "    })\n",
    "\n",
    "    result_df = result_df.sort_values(by='Unique Count', ascending=False).reset_index(drop=True)\n",
    "    return result_df[['Column', 'Unique Count', 'Null Percentage']]\n",
    "\n",
    "result = unique_values_and_null_percentage(data)\n",
    "print(result)"
   ]
  },
  {
   "cell_type": "markdown",
   "id": "640829de",
   "metadata": {},
   "source": [
    "## Duplicate Values Check\n",
    "\n",
    "Checking for duplicate values in the data set."
   ]
  },
  {
   "cell_type": "code",
   "execution_count": null,
   "id": "7a7c89f3",
   "metadata": {},
   "outputs": [],
   "source": [
    "duplicate_count = data.duplicated().sum()\n",
    "print(f\"Number of duplicate rows: {duplicate_count}\")\n"
   ]
  },
  {
   "cell_type": "markdown",
   "id": "52c43e8d",
   "metadata": {},
   "source": [
    "# Data Visualization & Analysis"
   ]
  },
  {
   "cell_type": "markdown",
   "id": "5dbf5533",
   "metadata": {},
   "source": [
    "## Finding Outliers\n",
    "   "
   ]
  },
  {
   "cell_type": "markdown",
   "id": "0821ba02",
   "metadata": {},
   "source": [
    "## Find Correlations of Features"
   ]
  },
  {
   "cell_type": "markdown",
   "id": "987f9892",
   "metadata": {},
   "source": [
    "# Data Preparation"
   ]
  },
  {
   "cell_type": "markdown",
   "id": "36e0c99f",
   "metadata": {},
   "source": [
    "## Data Cleanup"
   ]
  },
  {
   "cell_type": "markdown",
   "id": "27fed274",
   "metadata": {},
   "source": [
    "## Handling Missing Values"
   ]
  },
  {
   "cell_type": "markdown",
   "id": "e81581ed",
   "metadata": {},
   "source": [
    "## Handling Outliers"
   ]
  },
  {
   "cell_type": "code",
   "execution_count": null,
   "id": "e1b35289",
   "metadata": {},
   "outputs": [],
   "source": []
  },
  {
   "cell_type": "code",
   "execution_count": null,
   "id": "33af636b",
   "metadata": {},
   "outputs": [],
   "source": []
  }
 ],
 "metadata": {
  "kernelspec": {
   "display_name": "Python 3 (ipykernel)",
   "language": "python",
   "name": "python3"
  },
  "language_info": {
   "codemirror_mode": {
    "name": "ipython",
    "version": 3
   },
   "file_extension": ".py",
   "mimetype": "text/x-python",
   "name": "python",
   "nbconvert_exporter": "python",
   "pygments_lexer": "ipython3",
   "version": "3.10.13"
  }
 },
 "nbformat": 4,
 "nbformat_minor": 5
}
